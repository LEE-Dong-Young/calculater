{
 "cells": [
  {
   "cell_type": "markdown",
   "id": "ca4622d6-da2a-4fd0-8904-fe53ded04ba0",
   "metadata": {},
   "source": [
    "# 셀레니움을 활용한 동적페이지 크롤링"
   ]
  },
  {
   "cell_type": "markdown",
   "id": "eda25d35-c2e5-4f6c-9643-190c71520d8b",
   "metadata": {},
   "source": [
    "## 라이브러리 가져오기"
   ]
  },
  {
   "cell_type": "code",
   "execution_count": null,
   "id": "140c84d2-a5e4-4bab-8fb3-c97738a854f8",
   "metadata": {},
   "outputs": [],
   "source": [
    "# !pip install selenium # 전에.. 주환님꺼 하면서 설치했었나보다."
   ]
  },
  {
   "cell_type": "code",
   "execution_count": 31,
   "id": "34e1b6c6-4d57-4114-addc-d0c02edf6fad",
   "metadata": {},
   "outputs": [],
   "source": [
    "import time\n",
    "import requests\n",
    "from bs4 import BeautifulSoup\n",
    "from selenium import webdriver\n",
    "from selenium.webdriver.common.keys import Keys\n",
    "from selenium.webdriver.common.by import By"
   ]
  },
  {
   "cell_type": "code",
   "execution_count": 32,
   "id": "77e9f309-0d08-4cce-b1b0-d41c8ac3053c",
   "metadata": {},
   "outputs": [
    {
     "name": "stderr",
     "output_type": "stream",
     "text": [
      "C:\\Users\\user\\AppData\\Local\\Temp\\ipykernel_17000\\2255577326.py:2: DeprecationWarning: executable_path has been deprecated, please pass in a Service object\n",
      "  driver = webdriver.Chrome(DRIVER_DIR)\n"
     ]
    }
   ],
   "source": [
    "DRIVER_DIR = './chromedriver.exe'\n",
    "driver = webdriver.Chrome(DRIVER_DIR)"
   ]
  },
  {
   "cell_type": "markdown",
   "id": "37316182-069b-4848-aa1f-f1feb29cbf16",
   "metadata": {},
   "source": [
    "# 페이지 이동하기"
   ]
  },
  {
   "cell_type": "markdown",
   "id": "d265e3c6-3a90-46bb-a50e-37474a4cc9d3",
   "metadata": {},
   "source": [
    "## driver.get(url)"
   ]
  },
  {
   "cell_type": "code",
   "execution_count": 33,
   "id": "d11b52f9-aa7d-4778-91ff-a8181afb2dce",
   "metadata": {},
   "outputs": [],
   "source": [
    "driver.get('https://v-room.kr')"
   ]
  },
  {
   "cell_type": "markdown",
   "id": "bb1787de-acb7-4b37-b3f0-00d2aa93bcb6",
   "metadata": {},
   "source": [
    "### 페이지와 상호작용하기\n",
    "- element = driver.find.element(By.ID, 'passwd-id')\n",
    "- element = driver.find.element(By.Name, 'passwd')\n",
    "- element = driver.find.element(By.XPATH, '//input[@id='passwe-id']')\n",
    "- element = driver.find.element(By.CSS_SELECTOR, 'input#passwe-id')"
   ]
  },
  {
   "cell_type": "code",
   "execution_count": 34,
   "id": "fb2d64b0-c035-4785-96b6-5fd01d10666c",
   "metadata": {
    "tags": []
   },
   "outputs": [
    {
     "data": {
      "text/plain": [
       "<selenium.webdriver.remote.webelement.WebElement (session=\"d798d85c0052b5b32a49b1fa8a02eeb7\", element=\"af1eaea7-c6c1-418b-afad-cdc160adbb75\")>"
      ]
     },
     "execution_count": 34,
     "metadata": {},
     "output_type": "execute_result"
    }
   ],
   "source": [
    "driver.get('https://v-room.kr/login') #login Page로 이동\n",
    "ele = driver.find_element(By.ID, 'inputID') #ID 찾자 ( input ID 는 개발자도구 활용해서 찾아야함.. )\n",
    "ele"
   ]
  },
  {
   "cell_type": "code",
   "execution_count": 5,
   "id": "b41ae154-3579-4187-b384-0d65c810323f",
   "metadata": {
    "tags": []
   },
   "outputs": [],
   "source": [
    "ele.send_keys('test')"
   ]
  },
  {
   "cell_type": "code",
   "execution_count": 6,
   "id": "905cb5c4-de49-47f8-a04b-450e542ee23a",
   "metadata": {},
   "outputs": [],
   "source": [
    "# 비밀번호에 'test'라는 값 넣기\n",
    "ele2 = driver.find_element(By.ID, 'inputPW')\n",
    "ele2.send_keys('test')"
   ]
  },
  {
   "cell_type": "code",
   "execution_count": 7,
   "id": "b85b21b4-b1c5-41df-aee1-64527758f725",
   "metadata": {
    "tags": []
   },
   "outputs": [],
   "source": [
    "# 엔터키로 로그인하기\n",
    "# ele2.send_keys(Keys.RETURN) # ENTER 도 된다.\n",
    "\n",
    "ele2.send_keys(Keys.PAGE_DOWN) # 이거 왜 안되니?"
   ]
  },
  {
   "cell_type": "code",
   "execution_count": 9,
   "id": "0b802275-0594-4c83-9b1c-d226290f57f7",
   "metadata": {},
   "outputs": [
    {
     "ename": "NoSuchElementException",
     "evalue": "Message: no such element: Unable to locate element: {\"method\":\"css selector\",\"selector\":\".login-bottom\"}\n  (Session info: chrome=107.0.5304.107)\nStacktrace:\nBacktrace:\n\tOrdinal0 [0x002FACD3+2075859]\n\tOrdinal0 [0x0028EE61+1633889]\n\tOrdinal0 [0x0018B7BD+571325]\n\tOrdinal0 [0x001BAC2F+764975]\n\tOrdinal0 [0x001BAE1B+765467]\n\tOrdinal0 [0x001ED0F2+970994]\n\tOrdinal0 [0x001D7364+881508]\n\tOrdinal0 [0x001EB56A+963946]\n\tOrdinal0 [0x001D7136+880950]\n\tOrdinal0 [0x001AFEFD+720637]\n\tOrdinal0 [0x001B0F3F+724799]\n\tGetHandleVerifier [0x005AEED2+2769538]\n\tGetHandleVerifier [0x005A0D95+2711877]\n\tGetHandleVerifier [0x0038A03A+521194]\n\tGetHandleVerifier [0x00388DA0+516432]\n\tOrdinal0 [0x0029682C+1665068]\n\tOrdinal0 [0x0029B128+1683752]\n\tOrdinal0 [0x0029B215+1683989]\n\tOrdinal0 [0x002A6484+1729668]\n\tBaseThreadInitThunk [0x768EFEF9+25]\n\tRtlGetAppContainerNamedObjectPath [0x76EF7BBE+286]\n\tRtlGetAppContainerNamedObjectPath [0x76EF7B8E+238]\n",
     "output_type": "error",
     "traceback": [
      "\u001b[1;31m---------------------------------------------------------------------------\u001b[0m",
      "\u001b[1;31mNoSuchElementException\u001b[0m                    Traceback (most recent call last)",
      "Input \u001b[1;32mIn [9]\u001b[0m, in \u001b[0;36m<cell line: 2>\u001b[1;34m()\u001b[0m\n\u001b[0;32m      1\u001b[0m \u001b[38;5;66;03m# Login 버튼 클릭해서 로그인하기\u001b[39;00m\n\u001b[1;32m----> 2\u001b[0m ele3 \u001b[38;5;241m=\u001b[39m \u001b[43mdriver\u001b[49m\u001b[38;5;241;43m.\u001b[39;49m\u001b[43mfind_element\u001b[49m\u001b[43m(\u001b[49m\u001b[43mBy\u001b[49m\u001b[38;5;241;43m.\u001b[39;49m\u001b[43mCSS_SELECTOR\u001b[49m\u001b[43m,\u001b[49m\u001b[43m \u001b[49m\u001b[38;5;124;43m'\u001b[39;49m\u001b[38;5;124;43m.login-bottom\u001b[39;49m\u001b[38;5;124;43m'\u001b[39;49m\u001b[43m)\u001b[49m \u001b[38;5;66;03m# .은 class를 의미함.\u001b[39;00m\n\u001b[0;32m      3\u001b[0m ele3\u001b[38;5;241m.\u001b[39mclick()\n",
      "File \u001b[1;32m~\\anaconda3\\lib\\site-packages\\selenium\\webdriver\\remote\\webdriver.py:861\u001b[0m, in \u001b[0;36mWebDriver.find_element\u001b[1;34m(self, by, value)\u001b[0m\n\u001b[0;32m    858\u001b[0m     by \u001b[38;5;241m=\u001b[39m By\u001b[38;5;241m.\u001b[39mCSS_SELECTOR\n\u001b[0;32m    859\u001b[0m     value \u001b[38;5;241m=\u001b[39m \u001b[38;5;124m'\u001b[39m\u001b[38;5;124m[name=\u001b[39m\u001b[38;5;124m\"\u001b[39m\u001b[38;5;132;01m%s\u001b[39;00m\u001b[38;5;124m\"\u001b[39m\u001b[38;5;124m]\u001b[39m\u001b[38;5;124m'\u001b[39m \u001b[38;5;241m%\u001b[39m value\n\u001b[1;32m--> 861\u001b[0m \u001b[38;5;28;01mreturn\u001b[39;00m \u001b[38;5;28;43mself\u001b[39;49m\u001b[38;5;241;43m.\u001b[39;49m\u001b[43mexecute\u001b[49m\u001b[43m(\u001b[49m\u001b[43mCommand\u001b[49m\u001b[38;5;241;43m.\u001b[39;49m\u001b[43mFIND_ELEMENT\u001b[49m\u001b[43m,\u001b[49m\u001b[43m \u001b[49m\u001b[43m{\u001b[49m\u001b[38;5;124;43m\"\u001b[39;49m\u001b[38;5;124;43musing\u001b[39;49m\u001b[38;5;124;43m\"\u001b[39;49m\u001b[43m:\u001b[49m\u001b[43m \u001b[49m\u001b[43mby\u001b[49m\u001b[43m,\u001b[49m\u001b[43m \u001b[49m\u001b[38;5;124;43m\"\u001b[39;49m\u001b[38;5;124;43mvalue\u001b[39;49m\u001b[38;5;124;43m\"\u001b[39;49m\u001b[43m:\u001b[49m\u001b[43m \u001b[49m\u001b[43mvalue\u001b[49m\u001b[43m}\u001b[49m\u001b[43m)\u001b[49m[\u001b[38;5;124m\"\u001b[39m\u001b[38;5;124mvalue\u001b[39m\u001b[38;5;124m\"\u001b[39m]\n",
      "File \u001b[1;32m~\\anaconda3\\lib\\site-packages\\selenium\\webdriver\\remote\\webdriver.py:444\u001b[0m, in \u001b[0;36mWebDriver.execute\u001b[1;34m(self, driver_command, params)\u001b[0m\n\u001b[0;32m    442\u001b[0m response \u001b[38;5;241m=\u001b[39m \u001b[38;5;28mself\u001b[39m\u001b[38;5;241m.\u001b[39mcommand_executor\u001b[38;5;241m.\u001b[39mexecute(driver_command, params)\n\u001b[0;32m    443\u001b[0m \u001b[38;5;28;01mif\u001b[39;00m response:\n\u001b[1;32m--> 444\u001b[0m     \u001b[38;5;28;43mself\u001b[39;49m\u001b[38;5;241;43m.\u001b[39;49m\u001b[43merror_handler\u001b[49m\u001b[38;5;241;43m.\u001b[39;49m\u001b[43mcheck_response\u001b[49m\u001b[43m(\u001b[49m\u001b[43mresponse\u001b[49m\u001b[43m)\u001b[49m\n\u001b[0;32m    445\u001b[0m     response[\u001b[38;5;124m\"\u001b[39m\u001b[38;5;124mvalue\u001b[39m\u001b[38;5;124m\"\u001b[39m] \u001b[38;5;241m=\u001b[39m \u001b[38;5;28mself\u001b[39m\u001b[38;5;241m.\u001b[39m_unwrap_value(response\u001b[38;5;241m.\u001b[39mget(\u001b[38;5;124m\"\u001b[39m\u001b[38;5;124mvalue\u001b[39m\u001b[38;5;124m\"\u001b[39m, \u001b[38;5;28;01mNone\u001b[39;00m))\n\u001b[0;32m    446\u001b[0m     \u001b[38;5;28;01mreturn\u001b[39;00m response\n",
      "File \u001b[1;32m~\\anaconda3\\lib\\site-packages\\selenium\\webdriver\\remote\\errorhandler.py:249\u001b[0m, in \u001b[0;36mErrorHandler.check_response\u001b[1;34m(self, response)\u001b[0m\n\u001b[0;32m    247\u001b[0m         alert_text \u001b[38;5;241m=\u001b[39m value[\u001b[38;5;124m\"\u001b[39m\u001b[38;5;124malert\u001b[39m\u001b[38;5;124m\"\u001b[39m]\u001b[38;5;241m.\u001b[39mget(\u001b[38;5;124m\"\u001b[39m\u001b[38;5;124mtext\u001b[39m\u001b[38;5;124m\"\u001b[39m)\n\u001b[0;32m    248\u001b[0m     \u001b[38;5;28;01mraise\u001b[39;00m exception_class(message, screen, stacktrace, alert_text)  \u001b[38;5;66;03m# type: ignore[call-arg]  # mypy is not smart enough here\u001b[39;00m\n\u001b[1;32m--> 249\u001b[0m \u001b[38;5;28;01mraise\u001b[39;00m exception_class(message, screen, stacktrace)\n",
      "\u001b[1;31mNoSuchElementException\u001b[0m: Message: no such element: Unable to locate element: {\"method\":\"css selector\",\"selector\":\".login-bottom\"}\n  (Session info: chrome=107.0.5304.107)\nStacktrace:\nBacktrace:\n\tOrdinal0 [0x002FACD3+2075859]\n\tOrdinal0 [0x0028EE61+1633889]\n\tOrdinal0 [0x0018B7BD+571325]\n\tOrdinal0 [0x001BAC2F+764975]\n\tOrdinal0 [0x001BAE1B+765467]\n\tOrdinal0 [0x001ED0F2+970994]\n\tOrdinal0 [0x001D7364+881508]\n\tOrdinal0 [0x001EB56A+963946]\n\tOrdinal0 [0x001D7136+880950]\n\tOrdinal0 [0x001AFEFD+720637]\n\tOrdinal0 [0x001B0F3F+724799]\n\tGetHandleVerifier [0x005AEED2+2769538]\n\tGetHandleVerifier [0x005A0D95+2711877]\n\tGetHandleVerifier [0x0038A03A+521194]\n\tGetHandleVerifier [0x00388DA0+516432]\n\tOrdinal0 [0x0029682C+1665068]\n\tOrdinal0 [0x0029B128+1683752]\n\tOrdinal0 [0x0029B215+1683989]\n\tOrdinal0 [0x002A6484+1729668]\n\tBaseThreadInitThunk [0x768EFEF9+25]\n\tRtlGetAppContainerNamedObjectPath [0x76EF7BBE+286]\n\tRtlGetAppContainerNamedObjectPath [0x76EF7B8E+238]\n"
     ]
    }
   ],
   "source": [
    "# Login 버튼 클릭해서 로그인하기\n",
    "ele3 = driver.find_element(By.CSS_SELECTOR, '.login-bottom') # .은 class를 의미함.\n",
    "ele3.click()"
   ]
  },
  {
   "cell_type": "code",
   "execution_count": 10,
   "id": "518263e9-9cb9-4eaf-b0f6-c92ab3dded7d",
   "metadata": {},
   "outputs": [
    {
     "ename": "NoSuchElementException",
     "evalue": "Message: no such element: Unable to locate element: {\"method\":\"css selector\",\"selector\":\"#container_login > div > form > div > div > button\"}\n  (Session info: chrome=107.0.5304.107)\nStacktrace:\nBacktrace:\n\tOrdinal0 [0x002FACD3+2075859]\n\tOrdinal0 [0x0028EE61+1633889]\n\tOrdinal0 [0x0018B7BD+571325]\n\tOrdinal0 [0x001BAC2F+764975]\n\tOrdinal0 [0x001BAE1B+765467]\n\tOrdinal0 [0x001ED0F2+970994]\n\tOrdinal0 [0x001D7364+881508]\n\tOrdinal0 [0x001EB56A+963946]\n\tOrdinal0 [0x001D7136+880950]\n\tOrdinal0 [0x001AFEFD+720637]\n\tOrdinal0 [0x001B0F3F+724799]\n\tGetHandleVerifier [0x005AEED2+2769538]\n\tGetHandleVerifier [0x005A0D95+2711877]\n\tGetHandleVerifier [0x0038A03A+521194]\n\tGetHandleVerifier [0x00388DA0+516432]\n\tOrdinal0 [0x0029682C+1665068]\n\tOrdinal0 [0x0029B128+1683752]\n\tOrdinal0 [0x0029B215+1683989]\n\tOrdinal0 [0x002A6484+1729668]\n\tBaseThreadInitThunk [0x768EFEF9+25]\n\tRtlGetAppContainerNamedObjectPath [0x76EF7BBE+286]\n\tRtlGetAppContainerNamedObjectPath [0x76EF7B8E+238]\n",
     "output_type": "error",
     "traceback": [
      "\u001b[1;31m---------------------------------------------------------------------------\u001b[0m",
      "\u001b[1;31mNoSuchElementException\u001b[0m                    Traceback (most recent call last)",
      "Input \u001b[1;32mIn [10]\u001b[0m, in \u001b[0;36m<cell line: 1>\u001b[1;34m()\u001b[0m\n\u001b[1;32m----> 1\u001b[0m ele3 \u001b[38;5;241m=\u001b[39m \u001b[43mdriver\u001b[49m\u001b[38;5;241;43m.\u001b[39;49m\u001b[43mfind_element\u001b[49m\u001b[43m(\u001b[49m\u001b[43mBy\u001b[49m\u001b[38;5;241;43m.\u001b[39;49m\u001b[43mCSS_SELECTOR\u001b[49m\u001b[43m,\u001b[49m\u001b[43m \u001b[49m\u001b[38;5;124;43m'\u001b[39;49m\u001b[38;5;124;43m#container_login > div > form > div > div > button\u001b[39;49m\u001b[38;5;124;43m'\u001b[39;49m\u001b[43m)\u001b[49m \u001b[38;5;66;03m#copy selector 에 넣어줘도 됨.\u001b[39;00m\n\u001b[0;32m      2\u001b[0m ele3\u001b[38;5;241m.\u001b[39mclick()\n",
      "File \u001b[1;32m~\\anaconda3\\lib\\site-packages\\selenium\\webdriver\\remote\\webdriver.py:861\u001b[0m, in \u001b[0;36mWebDriver.find_element\u001b[1;34m(self, by, value)\u001b[0m\n\u001b[0;32m    858\u001b[0m     by \u001b[38;5;241m=\u001b[39m By\u001b[38;5;241m.\u001b[39mCSS_SELECTOR\n\u001b[0;32m    859\u001b[0m     value \u001b[38;5;241m=\u001b[39m \u001b[38;5;124m'\u001b[39m\u001b[38;5;124m[name=\u001b[39m\u001b[38;5;124m\"\u001b[39m\u001b[38;5;132;01m%s\u001b[39;00m\u001b[38;5;124m\"\u001b[39m\u001b[38;5;124m]\u001b[39m\u001b[38;5;124m'\u001b[39m \u001b[38;5;241m%\u001b[39m value\n\u001b[1;32m--> 861\u001b[0m \u001b[38;5;28;01mreturn\u001b[39;00m \u001b[38;5;28;43mself\u001b[39;49m\u001b[38;5;241;43m.\u001b[39;49m\u001b[43mexecute\u001b[49m\u001b[43m(\u001b[49m\u001b[43mCommand\u001b[49m\u001b[38;5;241;43m.\u001b[39;49m\u001b[43mFIND_ELEMENT\u001b[49m\u001b[43m,\u001b[49m\u001b[43m \u001b[49m\u001b[43m{\u001b[49m\u001b[38;5;124;43m\"\u001b[39;49m\u001b[38;5;124;43musing\u001b[39;49m\u001b[38;5;124;43m\"\u001b[39;49m\u001b[43m:\u001b[49m\u001b[43m \u001b[49m\u001b[43mby\u001b[49m\u001b[43m,\u001b[49m\u001b[43m \u001b[49m\u001b[38;5;124;43m\"\u001b[39;49m\u001b[38;5;124;43mvalue\u001b[39;49m\u001b[38;5;124;43m\"\u001b[39;49m\u001b[43m:\u001b[49m\u001b[43m \u001b[49m\u001b[43mvalue\u001b[49m\u001b[43m}\u001b[49m\u001b[43m)\u001b[49m[\u001b[38;5;124m\"\u001b[39m\u001b[38;5;124mvalue\u001b[39m\u001b[38;5;124m\"\u001b[39m]\n",
      "File \u001b[1;32m~\\anaconda3\\lib\\site-packages\\selenium\\webdriver\\remote\\webdriver.py:444\u001b[0m, in \u001b[0;36mWebDriver.execute\u001b[1;34m(self, driver_command, params)\u001b[0m\n\u001b[0;32m    442\u001b[0m response \u001b[38;5;241m=\u001b[39m \u001b[38;5;28mself\u001b[39m\u001b[38;5;241m.\u001b[39mcommand_executor\u001b[38;5;241m.\u001b[39mexecute(driver_command, params)\n\u001b[0;32m    443\u001b[0m \u001b[38;5;28;01mif\u001b[39;00m response:\n\u001b[1;32m--> 444\u001b[0m     \u001b[38;5;28;43mself\u001b[39;49m\u001b[38;5;241;43m.\u001b[39;49m\u001b[43merror_handler\u001b[49m\u001b[38;5;241;43m.\u001b[39;49m\u001b[43mcheck_response\u001b[49m\u001b[43m(\u001b[49m\u001b[43mresponse\u001b[49m\u001b[43m)\u001b[49m\n\u001b[0;32m    445\u001b[0m     response[\u001b[38;5;124m\"\u001b[39m\u001b[38;5;124mvalue\u001b[39m\u001b[38;5;124m\"\u001b[39m] \u001b[38;5;241m=\u001b[39m \u001b[38;5;28mself\u001b[39m\u001b[38;5;241m.\u001b[39m_unwrap_value(response\u001b[38;5;241m.\u001b[39mget(\u001b[38;5;124m\"\u001b[39m\u001b[38;5;124mvalue\u001b[39m\u001b[38;5;124m\"\u001b[39m, \u001b[38;5;28;01mNone\u001b[39;00m))\n\u001b[0;32m    446\u001b[0m     \u001b[38;5;28;01mreturn\u001b[39;00m response\n",
      "File \u001b[1;32m~\\anaconda3\\lib\\site-packages\\selenium\\webdriver\\remote\\errorhandler.py:249\u001b[0m, in \u001b[0;36mErrorHandler.check_response\u001b[1;34m(self, response)\u001b[0m\n\u001b[0;32m    247\u001b[0m         alert_text \u001b[38;5;241m=\u001b[39m value[\u001b[38;5;124m\"\u001b[39m\u001b[38;5;124malert\u001b[39m\u001b[38;5;124m\"\u001b[39m]\u001b[38;5;241m.\u001b[39mget(\u001b[38;5;124m\"\u001b[39m\u001b[38;5;124mtext\u001b[39m\u001b[38;5;124m\"\u001b[39m)\n\u001b[0;32m    248\u001b[0m     \u001b[38;5;28;01mraise\u001b[39;00m exception_class(message, screen, stacktrace, alert_text)  \u001b[38;5;66;03m# type: ignore[call-arg]  # mypy is not smart enough here\u001b[39;00m\n\u001b[1;32m--> 249\u001b[0m \u001b[38;5;28;01mraise\u001b[39;00m exception_class(message, screen, stacktrace)\n",
      "\u001b[1;31mNoSuchElementException\u001b[0m: Message: no such element: Unable to locate element: {\"method\":\"css selector\",\"selector\":\"#container_login > div > form > div > div > button\"}\n  (Session info: chrome=107.0.5304.107)\nStacktrace:\nBacktrace:\n\tOrdinal0 [0x002FACD3+2075859]\n\tOrdinal0 [0x0028EE61+1633889]\n\tOrdinal0 [0x0018B7BD+571325]\n\tOrdinal0 [0x001BAC2F+764975]\n\tOrdinal0 [0x001BAE1B+765467]\n\tOrdinal0 [0x001ED0F2+970994]\n\tOrdinal0 [0x001D7364+881508]\n\tOrdinal0 [0x001EB56A+963946]\n\tOrdinal0 [0x001D7136+880950]\n\tOrdinal0 [0x001AFEFD+720637]\n\tOrdinal0 [0x001B0F3F+724799]\n\tGetHandleVerifier [0x005AEED2+2769538]\n\tGetHandleVerifier [0x005A0D95+2711877]\n\tGetHandleVerifier [0x0038A03A+521194]\n\tGetHandleVerifier [0x00388DA0+516432]\n\tOrdinal0 [0x0029682C+1665068]\n\tOrdinal0 [0x0029B128+1683752]\n\tOrdinal0 [0x0029B215+1683989]\n\tOrdinal0 [0x002A6484+1729668]\n\tBaseThreadInitThunk [0x768EFEF9+25]\n\tRtlGetAppContainerNamedObjectPath [0x76EF7BBE+286]\n\tRtlGetAppContainerNamedObjectPath [0x76EF7B8E+238]\n"
     ]
    }
   ],
   "source": [
    "ele3 = driver.find_element(By.CSS_SELECTOR, '#container_login > div > form > div > div > button') #copy selector 에 넣어줘도 됨.\n",
    "ele3.click()"
   ]
  },
  {
   "cell_type": "code",
   "execution_count": 11,
   "id": "0f67d24b-ebe6-478d-b9bf-988fd6593c1f",
   "metadata": {},
   "outputs": [
    {
     "data": {
      "text/plain": [
       "True"
      ]
     },
     "execution_count": 11,
     "metadata": {},
     "output_type": "execute_result"
    }
   ],
   "source": [
    "# 현재 화면 저장\n",
    "driver.save_screenshot('screenshot.png') #어디서 에러가 났는지 확인해볼 수 있다."
   ]
  },
  {
   "cell_type": "code",
   "execution_count": 12,
   "id": "e3cacf0a-6d46-442c-af5e-5e07b7c4d9d6",
   "metadata": {},
   "outputs": [],
   "source": [
    "# 페이지 이동 : 뒤로가기, 앞으로 가기\n",
    "driver.back()\n",
    "driver.forward()"
   ]
  },
  {
   "cell_type": "markdown",
   "id": "40a5e3af-9fac-4705-a3a1-9c4ef7029de5",
   "metadata": {},
   "source": [
    "### 데이터 가져오기"
   ]
  },
  {
   "cell_type": "code",
   "execution_count": 13,
   "id": "33fb925f-1320-43b5-bad3-5847a66bf3cc",
   "metadata": {},
   "outputs": [],
   "source": [
    "driver.get('https://v-room.kr/classlist')"
   ]
  },
  {
   "cell_type": "code",
   "execution_count": 16,
   "id": "ba1888b2-42f1-4af6-9b49-0a32e96481bb",
   "metadata": {},
   "outputs": [
    {
     "data": {
      "text/plain": [
       "<selenium.webdriver.remote.webelement.WebElement (session=\"e8b5a08b834495d2c2748a9d4904111e\", element=\"cf501b98-bd8c-4620-a11f-f07345d70262\")>"
      ]
     },
     "execution_count": 16,
     "metadata": {},
     "output_type": "execute_result"
    }
   ],
   "source": [
    "#container_course > ul > li:nth-child(1)\n",
    "#class 가 'course register' 로 되어있다.\n",
    "\n",
    "elem = driver.find_element(By.CSS_SELECTOR, '.course.register') #요소 하나만 \n",
    "elem"
   ]
  },
  {
   "cell_type": "code",
   "execution_count": 16,
   "id": "223f721a-aa71-425c-bef0-f30d2602a91f",
   "metadata": {},
   "outputs": [
    {
     "data": {
      "text/plain": [
       "[<selenium.webdriver.remote.webelement.WebElement (session=\"1c4535d551db8347bf33ee593569c112\", element=\"cf404e11-f2bf-499b-83f3-445073db344e\")>,\n",
       " <selenium.webdriver.remote.webelement.WebElement (session=\"1c4535d551db8347bf33ee593569c112\", element=\"6631b9c8-35e0-4181-9f46-6473bc655307\")>,\n",
       " <selenium.webdriver.remote.webelement.WebElement (session=\"1c4535d551db8347bf33ee593569c112\", element=\"341c49d0-857c-4d00-b049-8b3b580cac1a\")>,\n",
       " <selenium.webdriver.remote.webelement.WebElement (session=\"1c4535d551db8347bf33ee593569c112\", element=\"c9ca9dd4-4ba6-43e5-a056-7ffae62d5b1b\")>,\n",
       " <selenium.webdriver.remote.webelement.WebElement (session=\"1c4535d551db8347bf33ee593569c112\", element=\"d337386d-92b6-45e5-9ab7-3da56c54284c\")>,\n",
       " <selenium.webdriver.remote.webelement.WebElement (session=\"1c4535d551db8347bf33ee593569c112\", element=\"2a6cbe28-5375-4502-9ec5-481edb44acce\")>,\n",
       " <selenium.webdriver.remote.webelement.WebElement (session=\"1c4535d551db8347bf33ee593569c112\", element=\"b583f65c-f736-4efe-8ad6-3d4f0d0587fc\")>]"
      ]
     },
     "execution_count": 16,
     "metadata": {},
     "output_type": "execute_result"
    }
   ],
   "source": [
    "elem = driver.find_elements(By.CSS_SELECTOR, '.course.register') # 요소 전부\n",
    "elem"
   ]
  },
  {
   "cell_type": "code",
   "execution_count": 17,
   "id": "83388ff7-5c71-4db7-a073-9a8959340f52",
   "metadata": {},
   "outputs": [
    {
     "name": "stdout",
     "output_type": "stream",
     "text": [
      "[전자정부] 정보보호 개념 이해 및 정립(테스트)\n",
      "[전자정부] 네트워크 보안실무 과정\n",
      "[대검] 사이버수사 전문가 양성교육\n",
      "[전자정부] 웹 해킹 보안 및 취약점 분석(test)\n",
      "[전자정부] 웹 해킹 보안 및 취약점 분석\n",
      "[전자정부] test\n",
      "[VROOM] 체험하기\n"
     ]
    }
   ],
   "source": [
    "for i in elem :\n",
    "    print(i.text)"
   ]
  },
  {
   "cell_type": "code",
   "execution_count": 18,
   "id": "418d4eb4-a41f-487a-94ed-608970338286",
   "metadata": {},
   "outputs": [],
   "source": [
    "driver.close()"
   ]
  },
  {
   "cell_type": "markdown",
   "id": "3de5e04f-9692-41f2-ac1c-7f00af499160",
   "metadata": {},
   "source": [
    "# CGV 사이트 로그인하기"
   ]
  },
  {
   "cell_type": "code",
   "execution_count": 19,
   "id": "85138518-db1f-45dd-b77d-4c42e6024223",
   "metadata": {
    "tags": []
   },
   "outputs": [],
   "source": [
    "# conda install -c conda-forge python-dotenv"
   ]
  },
  {
   "cell_type": "code",
   "execution_count": 20,
   "id": "a7b3bc04-156a-4101-bbd3-d94de3154d1d",
   "metadata": {},
   "outputs": [
    {
     "name": "stderr",
     "output_type": "stream",
     "text": [
      "C:\\Users\\user\\AppData\\Local\\Temp\\ipykernel_17000\\1521146359.py:2: DeprecationWarning: executable_path has been deprecated, please pass in a Service object\n",
      "  driver = webdriver.Chrome(DRIVER_DIR)\n"
     ]
    }
   ],
   "source": [
    "DRIVER_DIR = './chromedriver.exe' # 과거에는 꼭 이렇게 했어야했는데, 이제는 입력을 안해도 된다\n",
    "driver = webdriver.Chrome(DRIVER_DIR)"
   ]
  },
  {
   "cell_type": "code",
   "execution_count": 21,
   "id": "14a38bf7-4516-4f3d-b6bb-b042ce97bdb6",
   "metadata": {},
   "outputs": [],
   "source": [
    "driver.get('https://www.cgv.co.kr/user/login/')"
   ]
  },
  {
   "cell_type": "code",
   "execution_count": 22,
   "id": "6978a0dd-5838-4d85-b121-e79f5d7a5e7c",
   "metadata": {},
   "outputs": [
    {
     "ename": "NameError",
     "evalue": "name 'load_dotenv' is not defined",
     "output_type": "error",
     "traceback": [
      "\u001b[1;31m---------------------------------------------------------------------------\u001b[0m",
      "\u001b[1;31mNameError\u001b[0m                                 Traceback (most recent call last)",
      "Input \u001b[1;32mIn [22]\u001b[0m, in \u001b[0;36m<cell line: 1>\u001b[1;34m()\u001b[0m\n\u001b[1;32m----> 1\u001b[0m \u001b[43mload_dotenv\u001b[49m()\n",
      "\u001b[1;31mNameError\u001b[0m: name 'load_dotenv' is not defined"
     ]
    }
   ],
   "source": [
    "load_dotenv()"
   ]
  },
  {
   "cell_type": "code",
   "execution_count": 7,
   "id": "b2a029d5-2af3-47b9-a305-41bb7ce8491f",
   "metadata": {
    "tags": []
   },
   "outputs": [],
   "source": [
    "ele_id = driver.find_element(By.ID, 'txtUserId')\n",
    "ele_id.send_keys(os.getenv('id'))"
   ]
  },
  {
   "cell_type": "markdown",
   "id": "5a24c11b-304f-43af-ac46-48b3ab9cacf1",
   "metadata": {},
   "source": [
    "---"
   ]
  },
  {
   "cell_type": "code",
   "execution_count": 1,
   "id": "bcabd4e8-1442-4cde-9c93-afd7169b13d8",
   "metadata": {},
   "outputs": [],
   "source": [
    "# 코드 모으기\n",
    "\n",
    "import os\n",
    "import time\n",
    "import requests\n",
    "from dotenv import load_dotenv\n",
    "from selenium import webdriver\n",
    "from selenium.webdriver.common.keys import Keys\n",
    "from selenium.webdriver.common.by import By\n",
    "\n",
    "from selenium.webdriver.chrome.service import Service\n",
    "from webdriver_manager.chrome import ChromeDriverManager\n",
    "\n",
    "load_dotenv()\n",
    "driver = webdriver.Chrome(service=Service(ChromeDriverManager().install())) #이렇게 하면, 굳이 \n",
    "\n",
    "driver.get('https://www.cgv.co.kr/user/login/')\n",
    "driver.find_element(By.ID, 'txtUserId').send_keys(os.getenv('id'))\n",
    "driver.find_element(By.ID, 'txtPassword').send_keys(os.getenv('pw'))\n",
    "driver.find_element(By.ID, 'txtPassword').send_keys(Keys.ENTER)"
   ]
  },
  {
   "cell_type": "code",
   "execution_count": null,
   "id": "c05904e5-8b3e-4877-b64e-81ba8eaa0b28",
   "metadata": {},
   "outputs": [],
   "source": [
    "#strong_85997"
   ]
  },
  {
   "cell_type": "code",
   "execution_count": 8,
   "id": "22d6feea-c91e-4afb-bf02-0632014a7cfa",
   "metadata": {},
   "outputs": [],
   "source": [
    "driver.close()"
   ]
  },
  {
   "cell_type": "code",
   "execution_count": null,
   "id": "23ec0a02-e412-49e3-a5da-972b9d377293",
   "metadata": {},
   "outputs": [],
   "source": []
  },
  {
   "cell_type": "code",
   "execution_count": null,
   "id": "3e10f725-6df0-4983-990d-d1460b9721cc",
   "metadata": {},
   "outputs": [],
   "source": []
  },
  {
   "cell_type": "code",
   "execution_count": null,
   "id": "1fee9334-8727-40ce-9e43-baf61821cd54",
   "metadata": {},
   "outputs": [],
   "source": [
    "elem_wat = driver.find_elements(By.CSS_SELECTOR, '.course.register') # 요소 전부\n",
    "elem"
   ]
  },
  {
   "cell_type": "code",
   "execution_count": null,
   "id": "95fab358-8809-4ae2-8877-baa0ff2ec5a7",
   "metadata": {
    "tags": []
   },
   "outputs": [],
   "source": []
  },
  {
   "cell_type": "code",
   "execution_count": null,
   "id": "41879f01-be24-4072-b768-1e1ea478b6db",
   "metadata": {},
   "outputs": [],
   "source": []
  },
  {
   "cell_type": "code",
   "execution_count": null,
   "id": "64e9397a-05d5-4d72-aa24-7a36e0bd0c38",
   "metadata": {},
   "outputs": [],
   "source": []
  }
 ],
 "metadata": {
  "kernelspec": {
   "display_name": "Python 3 (ipykernel)",
   "language": "python",
   "name": "python3"
  },
  "language_info": {
   "codemirror_mode": {
    "name": "ipython",
    "version": 3
   },
   "file_extension": ".py",
   "mimetype": "text/x-python",
   "name": "python",
   "nbconvert_exporter": "python",
   "pygments_lexer": "ipython3",
   "version": "3.9.12"
  }
 },
 "nbformat": 4,
 "nbformat_minor": 5
}
